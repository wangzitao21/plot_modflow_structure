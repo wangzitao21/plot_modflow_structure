{
 "cells": [
  {
   "cell_type": "code",
   "execution_count": null,
   "metadata": {},
   "outputs": [],
   "source": [
    "import os\n",
    "import numpy as np\n",
    "import matplotlib.pyplot as plt\n",
    "%matplotlib inline\n",
    "%config InlineBackend.figure_format = 'svg'\n",
    "\n",
    "def plot_modflow_structure(x_number, y_number, csv_dir, point_size=50):\n",
    "    \"\"\"\n",
    "    x_number: the number of grids along the x-axis\n",
    "    y_number: the number of grids along the y-axis\n",
    "    csv_dir: the path to the directory containing .csv files\n",
    "    point_size: the size of boundary points in the scatter plot\n",
    "    \"\"\"\n",
    "    plt.rcParams['font.family'] = 'Times New Roman'\n",
    "    plt.rcParams['font.size'] = 12\n",
    "\n",
    "    csv_files = [f for f in os.listdir(csv_dir) if f.endswith('.csv')]\n",
    "\n",
    "    markers = ['o', 's', 'p', '^', 'H', 'd', '*', '8', 'P']\n",
    "\n",
    "    # Create the grid\n",
    "    # x = np.arange(0, x_number+1, 1) # +1 because there is one more gridline than grid\n",
    "    # y = np.arange(0, y_number+1, 1)\n",
    "    grid_number = max(x_number, y_number)\n",
    "    grid = np.arange(0, grid_number+1, 1)\n",
    "    X, Y = np.meshgrid(grid, grid)\n",
    "\n",
    "    fig = plt.figure(figsize=(8, 8))\n",
    "    ax = fig.add_subplot(1, 1, 1)\n",
    "\n",
    "    # Plot the grid\n",
    "    ax.plot(X, Y, linestyle=':', color='black', linewidth=0.8)\n",
    "    ax.plot(Y, X, linestyle=':', color='black', linewidth=0.8)\n",
    "    # only display one legend for all gridlines\n",
    "    ax.plot([], linestyle=':', color='black', linewidth=0.8, label=\"Gridlines\")\n",
    "\n",
    "    # Loop through the list of csv files\n",
    "    for i, file_name in enumerate(csv_files):\n",
    "        # Load the data from the .csv file\n",
    "        data = np.loadtxt(os.path.join(csv_dir, file_name), delimiter=',', encoding='utf-8-sig')\n",
    "        # Extract the x and y coordinates\n",
    "        x_coords = data[:, 2].astype(int) - 0.5\n",
    "        y_coords = data[:, 1].astype(int) - 0.5\n",
    "        # Plot the scatter plot\n",
    "        marker = markers[i % len(markers)]\n",
    "        ax.scatter(x_coords, y_coords, edgecolor=\"black\", s=point_size,\n",
    "                   marker=marker, label=os.path.splitext(file_name)[0])\n",
    "\n",
    "    ax.set_xlim(0, x_number)\n",
    "    ax.set_ylim(0, y_number)\n",
    "    ax.invert_yaxis()\n",
    "    ax.legend(bbox_to_anchor=(1.05, 1), loc='upper left')\n",
    "    ax.tick_params(bottom=True, top=True, left=True, right=True,\n",
    "                   labelbottom=True, labeltop=True, labelleft=True, labelright=True)\n",
    "\n",
    "plot_modflow_structure(x_number=30, \n",
    "                       y_number=30, \n",
    "                       csv_dir='./csv_dir/'\n",
    "                       )"
   ]
  }
 ],
 "metadata": {
  "kernelspec": {
   "display_name": "Python 3.10.9 ('base')",
   "language": "python",
   "name": "python3"
  },
  "language_info": {
   "codemirror_mode": {
    "name": "ipython",
    "version": 3
   },
   "file_extension": ".py",
   "mimetype": "text/x-python",
   "name": "python",
   "nbconvert_exporter": "python",
   "pygments_lexer": "ipython3",
   "version": "3.10.9"
  },
  "orig_nbformat": 4,
  "vscode": {
   "interpreter": {
    "hash": "f857d427358718d66449f7ffcefee21649585f7f6be60671c1fc26c7917f3531"
   }
  }
 },
 "nbformat": 4,
 "nbformat_minor": 2
}
